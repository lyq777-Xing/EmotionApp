{
 "cells": [
  {
   "cell_type": "markdown",
   "metadata": {},
   "source": [
    "### 对日记文本进行分词"
   ]
  },
  {
   "cell_type": "code",
   "execution_count": 1,
   "metadata": {},
   "outputs": [
    {
     "name": "stderr",
     "output_type": "stream",
     "text": [
      "Building prefix dict from the default dictionary ...\n",
      "Loading model from cache C:\\Users\\lyq\\AppData\\Local\\Temp\\jieba.cache\n",
      "Loading model cost 1.391 seconds.\n",
      "Prefix dict has been built successfully.\n"
     ]
    },
    {
     "name": "stdout",
     "output_type": "stream",
     "text": [
      "我 今天 很 开心 ， 做 了 很多 有趣 的 事情 ！\n"
     ]
    }
   ],
   "source": [
    "import jieba\n",
    "\n",
    "text = \"我今天很开心，做了很多有趣的事情！\"\n",
    "words = jieba.cut(text)\n",
    "print(\" \".join(words))  # 输出分词后的文本"
   ]
  },
  {
   "cell_type": "code",
   "execution_count": 2,
   "metadata": {},
   "outputs": [],
   "source": [
    "jieba.load_userdict(\"emotion_dict.txt\")  # 加载自定义词典"
   ]
  },
  {
   "cell_type": "markdown",
   "metadata": {},
   "source": [
    "### 停用词过滤"
   ]
  },
  {
   "cell_type": "code",
   "execution_count": 3,
   "metadata": {},
   "outputs": [
    {
     "name": "stdout",
     "output_type": "stream",
     "text": [
      "\n"
     ]
    }
   ],
   "source": [
    "stop_words = set([\"的\", \"了\", \"和\", \"是\"])  # 示例停用词\n",
    "filtered_words = [word for word in words if word not in stop_words]\n",
    "print(\" \".join(filtered_words))  # 输出去除停用词后的文本"
   ]
  },
  {
   "cell_type": "code",
   "execution_count": 6,
   "metadata": {},
   "outputs": [
    {
     "name": "stdout",
     "output_type": "stream",
     "text": [
      "分词后的文本： 我 今天 很 开心 ， 做 了 很多 有趣 的 事情 ！\n",
      "去除停用词后的文本： 今天 很 开心 ， 做 很多 有趣 事情 ！\n"
     ]
    }
   ],
   "source": [
    "import jieba\n",
    "\n",
    "# 原始文本\n",
    "text = \"我今天很开心，做了很多有趣的事情！\"\n",
    "\n",
    "# 分词\n",
    "words = jieba.cut(text)\n",
    "words = list(words)  # 将分词结果转换为列表，以便后续操作\n",
    "\n",
    "# 输出分词后的文本\n",
    "print(\"分词后的文本：\", \" \".join(words))\n",
    "\n",
    "# 加载自定义词典\n",
    "jieba.load_userdict(\"emotion_dict.txt\")  # 确保你的字典文件路径正确\n",
    "\n",
    "# 停用词列表\n",
    "# stop_words = set([\"的\", \"了\", \"和\", \"是\"])  # 示例停用词\n",
    "# 读取停用词列表\n",
    "with open(\"stopwords.txt\", \"r\", encoding=\"utf-8\") as f:\n",
    "    stop_words = set(f.read().splitlines())\n",
    "\n",
    "# 去除停用词后的结果\n",
    "filtered_words = [word for word in words if word not in stop_words]\n",
    "\n",
    "# 输出去除停用词后的文本\n",
    "print(\"去除停用词后的文本：\", \" \".join(filtered_words))\n"
   ]
  }
 ],
 "metadata": {
  "kernelspec": {
   "display_name": "hf",
   "language": "python",
   "name": "python3"
  },
  "language_info": {
   "codemirror_mode": {
    "name": "ipython",
    "version": 3
   },
   "file_extension": ".py",
   "mimetype": "text/x-python",
   "name": "python",
   "nbconvert_exporter": "python",
   "pygments_lexer": "ipython3",
   "version": "3.13.2"
  }
 },
 "nbformat": 4,
 "nbformat_minor": 2
}
