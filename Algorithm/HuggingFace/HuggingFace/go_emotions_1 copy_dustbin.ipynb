{
 "cells": [
  {
   "cell_type": "code",
   "execution_count": 6,
   "metadata": {},
   "outputs": [
    {
     "name": "stdout",
     "output_type": "stream",
     "text": [
      "{'text': Value(dtype='string', id=None), 'labels': Sequence(feature=ClassLabel(names=['admiration', 'amusement', 'anger', 'annoyance', 'approval', 'caring', 'confusion', 'curiosity', 'desire', 'disappointment', 'disapproval', 'disgust', 'embarrassment', 'excitement', 'fear', 'gratitude', 'grief', 'joy', 'love', 'nervousness', 'optimism', 'pride', 'realization', 'relief', 'remorse', 'sadness', 'surprise', 'neutral'], id=None), length=-1, id=None), 'id': Value(dtype='string', id=None)}\n"
     ]
    }
   ],
   "source": [
    "from transformers import BertTokenizer, BertForSequenceClassification, Trainer, TrainingArguments, EarlyStoppingCallback\n",
    "from datasets import load_dataset\n",
    "from sklearn.metrics import accuracy_score\n",
    "import numpy as np\n",
    "import torch\n",
    "\n",
    "# ========== 1. 加载 tokenizer 和已保存的模型 ==========\n",
    "model_path = \"./go_emotions_model\"  # 你保存模型的路径\n",
    "tokenizer = BertTokenizer.from_pretrained(model_path)\n",
    "model = BertForSequenceClassification.from_pretrained(model_path)\n",
    "\n",
    "# ========== 2. 加载 GoEmotions 数据集（这里作为例子）==========\n",
    "# 加载 GoEmotions 数据集\n",
    "dataset = load_dataset(\"go_emotions\")\n",
    "print(dataset['train'].features)\n",
    "\n",
    "# 五分类映射\n",
    "five_class_mapping = {\n",
    "    # very negative\n",
    "    'anger': 0, 'disgust': 0, 'fear': 0, 'grief': 0, 'remorse': 0, 'sadness': 0,\n",
    "    \n",
    "    # negative\n",
    "    'annoyance': 1, 'disappointment': 1, 'embarrassment': 1, 'nervousness': 1, 'confusion': 1,\n",
    "    \n",
    "    # neutral\n",
    "    'neutral': 2, 'realization': 2, 'curiosity': 2,\n",
    "    \n",
    "    # positive\n",
    "    'approval': 3, 'joy': 3, 'love': 3, 'optimism': 3, 'desire': 3, 'amusement': 3,\n",
    "    \n",
    "    # very positive\n",
    "    'admiration': 4, 'excitement': 4, 'gratitude': 4, 'pride': 4, 'relief': 4, 'caring': 4, 'surprise': 4\n",
    "}\n",
    "id2label = ['very negative', 'negative', 'neutral', 'positive', 'very positive']\n"
   ]
  },
  {
   "cell_type": "code",
   "execution_count": 7,
   "metadata": {},
   "outputs": [
    {
     "data": {
      "text/plain": [
       "['admiration',\n",
       " 'amusement',\n",
       " 'anger',\n",
       " 'annoyance',\n",
       " 'approval',\n",
       " 'caring',\n",
       " 'confusion',\n",
       " 'curiosity',\n",
       " 'desire',\n",
       " 'disappointment',\n",
       " 'disapproval',\n",
       " 'disgust',\n",
       " 'embarrassment',\n",
       " 'excitement',\n",
       " 'fear',\n",
       " 'gratitude',\n",
       " 'grief',\n",
       " 'joy',\n",
       " 'love',\n",
       " 'nervousness',\n",
       " 'optimism',\n",
       " 'pride',\n",
       " 'realization',\n",
       " 'relief',\n",
       " 'remorse',\n",
       " 'sadness',\n",
       " 'surprise',\n",
       " 'neutral']"
      ]
     },
     "execution_count": 7,
     "metadata": {},
     "output_type": "execute_result"
    }
   ],
   "source": [
    "dataset['train'].features['labels'].feature.names"
   ]
  },
  {
   "cell_type": "code",
   "execution_count": null,
   "metadata": {},
   "outputs": [
    {
     "name": "stdout",
     "output_type": "stream",
     "text": [
      "{'text': Value(dtype='string', id=None), 'labels': Sequence(feature=ClassLabel(names=['admiration', 'amusement', 'anger', 'annoyance', 'approval', 'caring', 'confusion', 'curiosity', 'desire', 'disappointment', 'disapproval', 'disgust', 'embarrassment', 'excitement', 'fear', 'gratitude', 'grief', 'joy', 'love', 'nervousness', 'optimism', 'pride', 'realization', 'relief', 'remorse', 'sadness', 'surprise', 'neutral'], id=None), length=-1, id=None), 'id': Value(dtype='string', id=None)}\n"
     ]
    },
    {
     "name": "stderr",
     "output_type": "stream",
     "text": [
      "Map: 100%|██████████| 43410/43410 [00:14<00:00, 2929.73 examples/s]\n",
      "Map: 100%|██████████| 5426/5426 [00:02<00:00, 2453.13 examples/s]\n",
      "Map: 100%|██████████| 5427/5427 [00:01<00:00, 2969.21 examples/s]\n",
      "Map: 100%|██████████| 43410/43410 [00:30<00:00, 1423.91 examples/s]\n",
      "Map: 100%|██████████| 5426/5426 [00:03<00:00, 1575.00 examples/s]\n",
      "Map: 100%|██████████| 5427/5427 [00:03<00:00, 1548.19 examples/s]\n"
     ]
    },
    {
     "name": "stdout",
     "output_type": "stream",
     "text": [
      "DatasetDict({\n",
      "    train: Dataset({\n",
      "        features: ['text', 'labels', 'id', 'five_class_label', 'input_ids', 'token_type_ids', 'attention_mask'],\n",
      "        num_rows: 43410\n",
      "    })\n",
      "    validation: Dataset({\n",
      "        features: ['text', 'labels', 'id', 'five_class_label', 'input_ids', 'token_type_ids', 'attention_mask'],\n",
      "        num_rows: 5426\n",
      "    })\n",
      "    test: Dataset({\n",
      "        features: ['text', 'labels', 'id', 'five_class_label', 'input_ids', 'token_type_ids', 'attention_mask'],\n",
      "        num_rows: 5427\n",
      "    })\n",
      "})\n"
     ]
    }
   ],
   "source": [
    " \n",
    "\n",
    "# 你已经定义了 five_class_mapping 和 map_emotion 函数\n",
    "# def map_emotion(example):\n",
    "#     label_ids = example['labels']\n",
    "#     emotions = [dataset['train'].features['labels'].feature.names[i] for i in label_ids]\n",
    "    \n",
    "#     # 将情感类别映射为五分类标签\n",
    "#     for emo in emotions:\n",
    "#         if emo in five_class_mapping:\n",
    "#             return {'five_class_label': five_class_mapping[emo]}\n",
    "#     return {'five_class_label': 2}  # 默认为 neutral\n",
    "\n",
    "# 定义映射函数：返回 int\n",
    "def map_emotion(example):\n",
    "    label_ids = example['labels']\n",
    "    emotions = [dataset['train'].features['labels'].feature.names[i] for i in label_ids]\n",
    "    for emo in emotions:\n",
    "        if emo in five_class_mapping:\n",
    "            return five_class_mapping[emo]\n",
    "    return 2  # 默认 neutral\n",
    "\n",
    "# 应用映射函数，将原始多标签映射为单个五分类标签\n",
    "dataset = dataset.map(lambda x: {'five_class_label': map_emotion(x)})\n",
    "\n",
    "# # 在训练集、验证集和测试集上应用映射函数\n",
    "# dataset['train'] = dataset['train'].map(map_emotion)\n",
    "# dataset['validation'] = dataset['validation'].map(map_emotion)\n",
    "# dataset['test'] = dataset['test'].map(map_emotion)\n",
    "\n",
    "# ========== 3. Tokenize ==========\n",
    "# 将数据集转换为训练所需的格式\n",
    "def tokenize_function(examples):\n",
    "    return tokenizer(examples['text'], padding=\"max_length\", truncation=True, max_length=512)\n",
    "\n",
    "# 初始化 BERT tokenizer\n",
    "# tokenizer = BertTokenizer.from_pretrained('bert-base-chinese')\n",
    "\n",
    "# 对数据集进行分词\n",
    "dataset = dataset.map(tokenize_function, batched=True)\n",
    "\n",
    "# 创建训练集和验证集\n",
    "train_data = dataset['train']\n",
    "eval_data = dataset['validation']\n",
    "test_data = dataset['test']\n",
    "\n",
    "print(dataset)\n",
    "\n",
    "# 设置格式\n",
    "# train_data.set_format(type=\"torch\", columns=[\"input_ids\", \"attention_mask\", \"label\"])\n",
    "# eval_data.set_format(type=\"torch\", columns=[\"input_ids\", \"attention_mask\", \"label\"])\n",
    "\n",
    "# 定义 EmotionDataset 类\n",
    "class EmotionDataset(torch.utils.data.Dataset):\n",
    "    def __init__(self, encodings, labels):\n",
    "        self.encodings = encodings\n",
    "        self.labels = labels\n",
    "\n",
    "    def __getitem__(self, idx):\n",
    "        item = {key: torch.tensor(val[idx]) for key, val in self.encodings.items()}\n",
    "        item['labels'] = torch.tensor(self.labels[idx])\n",
    "        return item\n",
    "\n",
    "    def __len__(self):\n",
    "        return len(self.labels)\n",
    "\n",
    "# 提取训练数据和标签\n",
    "train_encodings = tokenizer(train_data['text'], truncation=True, padding=True, max_length=512)\n",
    "train_labels = train_data['five_class_label']\n",
    "\n",
    "# 提取验证数据和标签\n",
    "val_encodings = tokenizer(eval_data['text'], truncation=True, padding=True, max_length=512)\n",
    "val_labels = eval_data['five_class_label']\n",
    "\n",
    "# 创建训练数据集\n",
    "train_data = EmotionDataset(train_encodings, train_labels)\n",
    "val_data = EmotionDataset(val_encodings, val_labels)\n"
   ]
  },
  {
   "cell_type": "code",
   "execution_count": null,
   "metadata": {},
   "outputs": [],
   "source": [
    "from transformers import BertTokenizer, BertForSequenceClassification, Trainer, TrainingArguments, EarlyStoppingCallback\n",
    "from datasets import load_dataset\n",
    "from sklearn.metrics import accuracy_score, f1_score\n",
    "import numpy as np\n",
    "import torch\n",
    "\n",
    "# ========== 1. 加载 tokenizer 和模型 ==========\n",
    "model_path = \"./emotion_model\"  # 替换为你自己的路径\n",
    "tokenizer = BertTokenizer.from_pretrained(model_path)\n",
    "model = BertForSequenceClassification.from_pretrained(model_path)\n",
    "\n",
    "# ========== 2. 加载 GoEmotions 数据集 ==========\n",
    "dataset = load_dataset(\"go_emotions\")\n",
    " \n",
    "# 定义映射函数：返回 int\n",
    "def map_emotion(example):\n",
    "    label_ids = example['labels']\n",
    "    emotions = [dataset['train'].features['labels'].feature.names[i] for i in label_ids]\n",
    "    for emo in emotions:\n",
    "        if emo in five_class_mapping:\n",
    "            return five_class_mapping[emo]\n",
    "    return 2  # 默认 neutral\n",
    "\n",
    "# 应用映射函数，将原始多标签映射为单个五分类标签\n",
    "dataset = dataset.map(lambda x: {'labels': map_emotion(x)})\n",
    "\n",
    "# ========== 3. Tokenize ==========\n",
    "def tokenize_function(examples):\n",
    "    return tokenizer(examples['text'], padding=\"max_length\", truncation=True, max_length=512)\n",
    "\n",
    "dataset = dataset.map(tokenize_function, batched=True)\n",
    "\n",
    "# 设置格式供 PyTorch Trainer 使用\n",
    "dataset.set_format(type=\"torch\", columns=[\"input_ids\", \"attention_mask\", \"labels\"])\n",
    "\n",
    "# 拆分数据集\n",
    "train_data = dataset['train']\n",
    "eval_data = dataset['validation']\n",
    "test_data = dataset['test']\n",
    "\n",
    "# ========== 4. 定义评估指标 ==========\n",
    "def compute_metrics(pred):\n",
    "    labels = pred.label_ids\n",
    "    preds = np.argmax(pred.predictions, axis=1)\n",
    "    acc = accuracy_score(labels, preds)\n",
    "    f1 = f1_score(labels, preds, average=\"weighted\")\n",
    "    return {\"accuracy\": acc, \"f1\": f1}\n"
   ]
  },
  {
   "cell_type": "code",
   "execution_count": null,
   "metadata": {},
   "outputs": [
    {
     "name": "stderr",
     "output_type": "stream",
     "text": [
      "C:\\Users\\lyq\\AppData\\Local\\Temp\\ipykernel_15500\\714692045.py:26: FutureWarning: `tokenizer` is deprecated and will be removed in version 5.0.0 for `Trainer.__init__`. Use `processing_class` instead.\n",
      "  trainer = Trainer(\n"
     ]
    },
    {
     "data": {
      "text/html": [
       "\n",
       "    <div>\n",
       "      \n",
       "      <progress value='8142' max='13570' style='width:300px; height:20px; vertical-align: middle;'></progress>\n",
       "      [ 8142/13570 3:40:31 < 2:27:02, 0.62 it/s, Epoch 3/5]\n",
       "    </div>\n",
       "    <table border=\"1\" class=\"dataframe\">\n",
       "  <thead>\n",
       " <tr style=\"text-align: left;\">\n",
       "      <th>Epoch</th>\n",
       "      <th>Training Loss</th>\n",
       "      <th>Validation Loss</th>\n",
       "      <th>Accuracy</th>\n",
       "      <th>F1</th>\n",
       "    </tr>\n",
       "  </thead>\n",
       "  <tbody>\n",
       "    <tr>\n",
       "      <td>1</td>\n",
       "      <td>No log</td>\n",
       "      <td>0.937563</td>\n",
       "      <td>0.667711</td>\n",
       "      <td>0.638969</td>\n",
       "    </tr>\n",
       "    <tr>\n",
       "      <td>2</td>\n",
       "      <td>No log</td>\n",
       "      <td>1.041103</td>\n",
       "      <td>0.639329</td>\n",
       "      <td>0.633288</td>\n",
       "    </tr>\n",
       "    <tr>\n",
       "      <td>3</td>\n",
       "      <td>No log</td>\n",
       "      <td>1.067617</td>\n",
       "      <td>0.656653</td>\n",
       "      <td>0.642075</td>\n",
       "    </tr>\n",
       "  </tbody>\n",
       "</table><p>"
      ],
      "text/plain": [
       "<IPython.core.display.HTML object>"
      ]
     },
     "metadata": {},
     "output_type": "display_data"
    },
    {
     "data": {
      "text/html": [
       "\n",
       "    <div>\n",
       "      \n",
       "      <progress value='340' max='340' style='width:300px; height:20px; vertical-align: middle;'></progress>\n",
       "      [340/340 01:15]\n",
       "    </div>\n",
       "    "
      ],
      "text/plain": [
       "<IPython.core.display.HTML object>"
      ]
     },
     "metadata": {},
     "output_type": "display_data"
    },
    {
     "name": "stdout",
     "output_type": "stream",
     "text": [
      "\n",
      "📊 Validation Accuracy: 0.6677\n"
     ]
    }
   ],
   "source": [
    "\n",
    "# ========== 4. 计算验证准确率 ==========\n",
    "# def compute_metrics(eval_pred):\n",
    "#     logits, labels = eval_pred\n",
    "#     predictions = np.argmax(logits, axis=1)\n",
    "#     acc = accuracy_score(labels, predictions)\n",
    "#     return {\"accuracy\": acc}\n",
    "\n",
    "# ========== 5. 训练参数 ==========\n",
    "training_args = TrainingArguments(\n",
    "    output_dir=\"./emotion_model_1\",       # 保存路径\n",
    "    evaluation_strategy=\"epoch\",            # 每个 epoch 做验证\n",
    "    save_strategy=\"epoch\",                  # 每个 epoch 保存模型\n",
    "    logging_dir=\"./logs\",                   # 日志路径\n",
    "    logging_strategy=\"no\",               # 每个 epoch 打印日志\n",
    "    per_device_train_batch_size=16,\n",
    "    per_device_eval_batch_size=16,\n",
    "    num_train_epochs=5,\n",
    "    load_best_model_at_end=True,\n",
    "    metric_for_best_model=\"accuracy\",\n",
    "    save_total_limit=1,                     # 最多保存几个模型\n",
    "    report_to=\"none\",                       # 不连接 wandb 等\n",
    "    fp16=True,  # ✅ 启用混合精度训练\n",
    ")\n",
    "\n",
    "# ========== 6. 初始化 Trainer ==========\n",
    "trainer = Trainer(\n",
    "    model=model,\n",
    "    args=training_args,\n",
    "    train_dataset=train_data,\n",
    "    eval_dataset=eval_data,\n",
    "    tokenizer=tokenizer,\n",
    "    compute_metrics=compute_metrics,\n",
    "    callbacks=[EarlyStoppingCallback(early_stopping_patience=2)]\n",
    ")\n",
    "\n",
    "# ========== 7. 开始继续训练 ==========\n",
    "trainer.train()\n",
    "\n",
    "# ========== 8. 验证并输出准确率 ==========\n",
    "eval_results = trainer.evaluate()\n",
    "print(f\"\\n📊 Validation Accuracy: {eval_results['eval_accuracy']:.4f}\")\n"
   ]
  },
  {
   "cell_type": "code",
   "execution_count": null,
   "metadata": {},
   "outputs": [
    {
     "data": {
      "text/plain": [
       "('./emotion_model_11\\\\tokenizer_config.json',\n",
       " './emotion_model_11\\\\special_tokens_map.json',\n",
       " './emotion_model_11\\\\vocab.txt',\n",
       " './emotion_model_11\\\\added_tokens.json')"
      ]
     },
     "execution_count": 7,
     "metadata": {},
     "output_type": "execute_result"
    }
   ],
   "source": [
    "model.save_pretrained('./emotion_model_11')\n",
    "tokenizer.save_pretrained('./emotion_model_11')"
   ]
  }
 ],
 "metadata": {
  "kernelspec": {
   "display_name": "hf",
   "language": "python",
   "name": "python3"
  },
  "language_info": {
   "codemirror_mode": {
    "name": "ipython",
    "version": 3
   },
   "file_extension": ".py",
   "mimetype": "text/x-python",
   "name": "python",
   "nbconvert_exporter": "python",
   "pygments_lexer": "ipython3",
   "version": "3.13.2"
  }
 },
 "nbformat": 4,
 "nbformat_minor": 2
}
