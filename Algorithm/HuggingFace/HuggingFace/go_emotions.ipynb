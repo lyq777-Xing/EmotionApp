{
 "cells": [
  {
   "cell_type": "markdown",
   "metadata": {},
   "source": [
    "步骤 1: 加载和预处理数据\n",
    "GoEmotions 数据集的标签需要重新映射为五个情感类别：非常负面、负面、中性、正面、非常正面。\n",
    "\n",
    "首先，我们需要加载数据集并进行标签映射（情感从多种类别转换为五类）。同时，中文输入需要使用适合中文的预训练模型。"
   ]
  },
  {
   "cell_type": "code",
   "execution_count": 1,
   "metadata": {},
   "outputs": [
    {
     "name": "stderr",
     "output_type": "stream",
     "text": [
      "e:\\demo\\EmotionApp\\backend\\EmotionAppBackend\\Algorithm\\HuggingFace\\hf\\Lib\\site-packages\\tqdm\\auto.py:21: TqdmWarning: IProgress not found. Please update jupyter and ipywidgets. See https://ipywidgets.readthedocs.io/en/stable/user_install.html\n",
      "  from .autonotebook import tqdm as notebook_tqdm\n",
      "Using the latest cached version of the dataset since go_emotions couldn't be found on the Hugging Face Hub\n",
      "Found the latest cached dataset configuration 'simplified' at C:\\Users\\lyq\\.cache\\huggingface\\datasets\\go_emotions\\simplified\\0.0.0\\add492243ff905527e67aeb8b80c082af02207c3 (last modified on Sat Apr  5 02:51:39 2025).\n"
     ]
    },
    {
     "name": "stdout",
     "output_type": "stream",
     "text": [
      "{'text': Value(dtype='string', id=None), 'labels': Sequence(feature=ClassLabel(names=['admiration', 'amusement', 'anger', 'annoyance', 'approval', 'caring', 'confusion', 'curiosity', 'desire', 'disappointment', 'disapproval', 'disgust', 'embarrassment', 'excitement', 'fear', 'gratitude', 'grief', 'joy', 'love', 'nervousness', 'optimism', 'pride', 'realization', 'relief', 'remorse', 'sadness', 'surprise', 'neutral'], id=None), length=-1, id=None), 'id': Value(dtype='string', id=None)}\n"
     ]
    }
   ],
   "source": [
    "\n",
    "from datasets import load_dataset\n",
    "from transformers import BertTokenizer, BertForSequenceClassification\n",
    "import torch\n",
    "\n",
    "# 加载 GoEmotions 数据集\n",
    "dataset = load_dataset(\"go_emotions\")\n",
    "print(dataset['train'].features)\n",
    "\n",
    "# 五分类映射\n",
    "five_class_mapping = {\n",
    "    'anger': 0, 'disgust': 0, 'fear': 0, 'sadness': 0,\n",
    "    'annoyance': 1, 'disappointment': 1,\n",
    "    'neutral': 2,\n",
    "    'approval': 3, 'joy': 3, 'love': 3, 'optimism': 3,\n",
    "    'admiration': 4, 'excitement': 4, 'gratitude': 4, 'pride': 4, 'relief': 4\n",
    "}\n",
    "\n",
    "id2label = ['very negative', 'negative', 'neutral', 'positive', 'very positive']\n",
    "\n",
    "\n",
    "# 你已经定义了 five_class_mapping 和 map_emotion 函数\n",
    "def map_emotion(example):\n",
    "    label_ids = example['labels']\n",
    "    emotions = [dataset['train'].features['labels'].feature.names[i] for i in label_ids]\n",
    "    \n",
    "    # 将情感类别映射为五分类标签\n",
    "    for emo in emotions:\n",
    "        if emo in five_class_mapping:\n",
    "            return {'five_class_label': five_class_mapping[emo]}\n",
    "    return {'five_class_label': 2}  # 默认为 neutral\n",
    "\n",
    "# 在训练集、验证集和测试集上应用映射函数\n",
    "dataset['train'] = dataset['train'].map(map_emotion)\n",
    "dataset['validation'] = dataset['validation'].map(map_emotion)\n",
    "dataset['test'] = dataset['test'].map(map_emotion)\n",
    "\n",
    "\n",
    "\n",
    "# def map_emotion(example):\n",
    "#     label_ids = example['labels']\n",
    "#     emotions = [dataset['train'].features['labels'].feature.names[i] for i in label_ids]\n",
    "    \n",
    "#     for emo in emotions:\n",
    "#         if emo in five_class_mapping:\n",
    "#             return {'five_class_label': five_class_mapping[emo]}\n",
    "#     return {'five_class_label': 2}  # 默认为 neutral\n",
    "\n",
    "# dataset['train'] = dataset['train'].map(map_emotion)\n",
    "\n",
    "\n",
    "\n",
    "\n"
   ]
  },
  {
   "cell_type": "code",
   "execution_count": 2,
   "metadata": {},
   "outputs": [],
   "source": [
    "# 选择训练集\n",
    "# train_data = dataset['train']"
   ]
  },
  {
   "cell_type": "markdown",
   "metadata": {},
   "source": [
    "步骤 2: 加载中文BERT模型\n",
    "为了处理中文文本，使用 bert-base-chinese 作为预训练模型。加载并准备分词器和模型。"
   ]
  },
  {
   "cell_type": "code",
   "execution_count": 3,
   "metadata": {},
   "outputs": [
    {
     "name": "stdout",
     "output_type": "stream",
     "text": [
      "DatasetDict({\n",
      "    train: Dataset({\n",
      "        features: ['text', 'labels', 'id', 'five_class_label', 'input_ids', 'token_type_ids', 'attention_mask'],\n",
      "        num_rows: 43410\n",
      "    })\n",
      "    validation: Dataset({\n",
      "        features: ['text', 'labels', 'id', 'five_class_label', 'input_ids', 'token_type_ids', 'attention_mask'],\n",
      "        num_rows: 5426\n",
      "    })\n",
      "    test: Dataset({\n",
      "        features: ['text', 'labels', 'id', 'five_class_label', 'input_ids', 'token_type_ids', 'attention_mask'],\n",
      "        num_rows: 5427\n",
      "    })\n",
      "})\n"
     ]
    }
   ],
   "source": [
    "from transformers import Trainer, TrainingArguments\n",
    "from torch.utils.data import DataLoader\n",
    "from datasets import Dataset, DatasetDict\n",
    "\n",
    "# 将数据集转换为训练所需的格式\n",
    "def tokenize_function(examples):\n",
    "    return tokenizer(examples['text'], padding=\"max_length\", truncation=True, max_length=512)\n",
    "\n",
    "# 初始化 BERT tokenizer\n",
    "tokenizer = BertTokenizer.from_pretrained('bert-base-chinese')\n",
    "\n",
    "# 对数据集进行分词\n",
    "dataset = dataset.map(tokenize_function, batched=True)\n",
    "\n",
    "# 创建训练集和验证集\n",
    "train_dataset = dataset['train']\n",
    "val_dataset = dataset['validation']\n",
    "\n",
    "print(dataset)\n",
    "\n",
    "# 定义 EmotionDataset 类\n",
    "class EmotionDataset(torch.utils.data.Dataset):\n",
    "    def __init__(self, encodings, labels):\n",
    "        self.encodings = encodings\n",
    "        self.labels = labels\n",
    "\n",
    "    def __getitem__(self, idx):\n",
    "        item = {key: torch.tensor(val[idx]) for key, val in self.encodings.items()}\n",
    "        item['labels'] = torch.tensor(self.labels[idx])\n",
    "        return item\n",
    "\n",
    "    def __len__(self):\n",
    "        return len(self.labels)\n",
    "\n",
    "# 提取训练数据和标签\n",
    "train_encodings = tokenizer(train_dataset['text'], truncation=True, padding=True, max_length=512)\n",
    "train_labels = train_dataset['five_class_label']\n",
    "\n",
    "# 提取验证数据和标签\n",
    "val_encodings = tokenizer(val_dataset['text'], truncation=True, padding=True, max_length=512)\n",
    "val_labels = val_dataset['five_class_label']\n",
    "\n",
    "# 创建训练数据集\n",
    "train_data = EmotionDataset(train_encodings, train_labels)\n",
    "val_data = EmotionDataset(val_encodings, val_labels)"
   ]
  },
  {
   "cell_type": "markdown",
   "metadata": {},
   "source": [
    "步骤 3: 设置训练参数和训练模型\n",
    "使用 Trainer 进行模型训练。我们还可以设置 TensorBoard 或 matplotlib 来绘制训练趋势图。"
   ]
  },
  {
   "cell_type": "code",
   "execution_count": null,
   "metadata": {},
   "outputs": [
    {
     "name": "stderr",
     "output_type": "stream",
     "text": [
      "e:\\demo\\EmotionApp\\backend\\EmotionAppBackend\\Algorithm\\HuggingFace\\hf\\Lib\\site-packages\\transformers\\training_args.py:1611: FutureWarning: `evaluation_strategy` is deprecated and will be removed in version 4.46 of 🤗 Transformers. Use `eval_strategy` instead\n",
      "  warnings.warn(\n",
      "Some weights of BertForSequenceClassification were not initialized from the model checkpoint at bert-base-chinese and are newly initialized: ['classifier.bias', 'classifier.weight']\n",
      "You should probably TRAIN this model on a down-stream task to be able to use it for predictions and inference.\n",
      "C:\\Users\\lyq\\AppData\\Local\\Temp\\ipykernel_8156\\2353167339.py:23: FutureWarning: `tokenizer` is deprecated and will be removed in version 5.0.0 for `Trainer.__init__`. Use `processing_class` instead.\n",
      "  trainer = Trainer(\n"
     ]
    },
    {
     "data": {
      "text/html": [
       "\n",
       "    <div>\n",
       "      \n",
       "      <progress value='8142' max='8142' style='width:300px; height:20px; vertical-align: middle;'></progress>\n",
       "      [8142/8142 1:40:25, Epoch 3/3]\n",
       "    </div>\n",
       "    <table border=\"1\" class=\"dataframe\">\n",
       "  <thead>\n",
       " <tr style=\"text-align: left;\">\n",
       "      <th>Epoch</th>\n",
       "      <th>Training Loss</th>\n",
       "      <th>Validation Loss</th>\n",
       "    </tr>\n",
       "  </thead>\n",
       "  <tbody>\n",
       "    <tr>\n",
       "      <td>1</td>\n",
       "      <td>1.140800</td>\n",
       "      <td>0.996684</td>\n",
       "    </tr>\n",
       "    <tr>\n",
       "      <td>2</td>\n",
       "      <td>0.918500</td>\n",
       "      <td>0.958338</td>\n",
       "    </tr>\n",
       "    <tr>\n",
       "      <td>3</td>\n",
       "      <td>0.801000</td>\n",
       "      <td>0.931388</td>\n",
       "    </tr>\n",
       "  </tbody>\n",
       "</table><p>"
      ],
      "text/plain": [
       "<IPython.core.display.HTML object>"
      ]
     },
     "metadata": {},
     "output_type": "display_data"
    },
    {
     "data": {
      "text/plain": [
       "('./emotion_model\\\\tokenizer_config.json',\n",
       " './emotion_model\\\\special_tokens_map.json',\n",
       " './emotion_model\\\\vocab.txt',\n",
       " './emotion_model\\\\added_tokens.json')"
      ]
     },
     "execution_count": 4,
     "metadata": {},
     "output_type": "execute_result"
    }
   ],
   "source": [
    "from transformers import Trainer, TrainingArguments\n",
    "from torch.utils.tensorboard import SummaryWriter\n",
    "import matplotlib.pyplot as plt\n",
    "\n",
    "\n",
    "# 使用 Trainer API 设置训练参数\n",
    "training_args = TrainingArguments(\n",
    "    output_dir='./results',          # 输出目录\n",
    "    num_train_epochs=3,              # 训练轮次\n",
    "    per_device_train_batch_size=16,  # 每个设备上的批次大小\n",
    "    per_device_eval_batch_size=64,   # 验证时每个设备上的批次大小\n",
    "    warmup_steps=500,                # 热身步数\n",
    "    weight_decay=0.01,               # 权重衰减\n",
    "    logging_dir='./logs',            # 日志目录\n",
    "    logging_steps=10,\n",
    "    evaluation_strategy=\"epoch\",     # 每轮评估一次\n",
    ")\n",
    "\n",
    "# 使用 BERT 模型\n",
    "model = BertForSequenceClassification.from_pretrained('bert-base-chinese', num_labels=5)\n",
    "\n",
    "# 使用 Trainer 进行训练\n",
    "trainer = Trainer(\n",
    "    model=model,                         # 模型\n",
    "    args=training_args,                  # 训练参数\n",
    "    train_dataset=train_data,            # 训练数据集\n",
    "    eval_dataset=val_data,               # 验证数据集\n",
    "    tokenizer=tokenizer,                 # tokenizer\n",
    ")\n",
    "\n",
    "# 开始训练\n",
    "trainer.train()\n",
    "\n",
    "# 保存模型\n",
    "model.save_pretrained('./emotion_model')\n",
    "tokenizer.save_pretrained('./emotion_model')\n"
   ]
  },
  {
   "cell_type": "markdown",
   "metadata": {},
   "source": [
    "步骤 4: 绘制训练趋势图\n",
    "使用 matplotlib 或 TensorBoard 绘制训练损失趋势图。以下是用 matplotlib 绘制的示例："
   ]
  },
  {
   "cell_type": "code",
   "execution_count": 5,
   "metadata": {},
   "outputs": [
    {
     "data": {
      "image/png": "[encoded data removed]",
      "text/plain": [
       "<Figure size 640x480 with 1 Axes>"
      ]
     },
     "metadata": {},
     "output_type": "display_data"
    }
   ],
   "source": [
    "# 获取训练损失历史\n",
    "losses = trainer.state.log_history\n",
    "epochs = [x['epoch'] for x in losses if 'loss' in x]\n",
    "train_loss = [x['loss'] for x in losses if 'loss' in x]\n",
    "\n",
    "# 绘制训练损失图\n",
    "plt.plot(epochs, train_loss)\n",
    "plt.xlabel('Epoch')\n",
    "plt.ylabel('Loss')\n",
    "plt.title('Training Loss Trend')\n",
    "plt.show()\n"
   ]
  },
  {
   "cell_type": "markdown",
   "metadata": {},
   "source": [
    "步骤 5: 情感强度分析\n",
    "情感强度分析可以通过模型的输出（即 logits）进行。我们可以使用 softmax 将 logits 转化为概率，并通过最大概率判断情感强度。"
   ]
  },
  {
   "cell_type": "code",
   "execution_count": 1,
   "metadata": {},
   "outputs": [
    {
     "ename": "NameError",
     "evalue": "name 'tokenizer' is not defined",
     "output_type": "error",
     "traceback": [
      "\u001b[31m---------------------------------------------------------------------------\u001b[39m",
      "\u001b[31mNameError\u001b[39m                                 Traceback (most recent call last)",
      "\u001b[36mCell\u001b[39m\u001b[36m \u001b[39m\u001b[32mIn[1]\u001b[39m\u001b[32m, line 5\u001b[39m\n\u001b[32m      2\u001b[39m \u001b[38;5;28;01mfrom\u001b[39;00m\u001b[38;5;250m \u001b[39m\u001b[34;01mtorch\u001b[39;00m\u001b[34;01m.\u001b[39;00m\u001b[34;01mnn\u001b[39;00m\u001b[34;01m.\u001b[39;00m\u001b[34;01mfunctional\u001b[39;00m\u001b[38;5;250m \u001b[39m\u001b[38;5;28;01mimport\u001b[39;00m softmax\n\u001b[32m      4\u001b[39m \u001b[38;5;66;03m# 假设输入为单个文本样本\u001b[39;00m\n\u001b[32m----> \u001b[39m\u001b[32m5\u001b[39m inputs = \u001b[43mtokenizer\u001b[49m(\u001b[33m\"\u001b[39m\u001b[33mI am so happy today!\u001b[39m\u001b[33m\"\u001b[39m)\n\u001b[32m      7\u001b[39m \u001b[38;5;66;03m# 获取模型的输出 logits\u001b[39;00m\n\u001b[32m      8\u001b[39m outputs = model(**inputs)\n",
      "\u001b[31mNameError\u001b[39m: name 'tokenizer' is not defined"
     ]
    }
   ],
   "source": [
    "import torch\n",
    "from torch.nn.functional import softmax\n",
    "\n",
    "# 假设输入为单个文本样本\n",
    "inputs = tokenizer(\"I am so happy today!\")\n",
    "\n",
    "# 获取模型的输出 logits\n",
    "outputs = model(**inputs)\n",
    "logits = outputs.logits\n",
    "\n",
    "# 计算情感概率\n",
    "probabilities = softmax(logits, dim=-1)\n",
    "\n",
    "# 获取情感强度（最大概率值）\n",
    "emotion_intensity = torch.max(probabilities, dim=1)\n",
    "print(f\"情感强度: {emotion_intensity.values.item()}\")  # 显示情感强度值\n"
   ]
  },
  {
   "cell_type": "markdown",
   "metadata": {},
   "source": [
    "步骤 6: 模型评估和准确度计算\n",
    "最后，可以使用 trainer.evaluate() 来评估模型并计算准确度："
   ]
  },
  {
   "cell_type": "code",
   "execution_count": 7,
   "metadata": {},
   "outputs": [
    {
     "data": {
      "text/html": [
       "\n",
       "    <div>\n",
       "      \n",
       "      <progress value='85' max='85' style='width:300px; height:20px; vertical-align: middle;'></progress>\n",
       "      [85/85 00:18]\n",
       "    </div>\n",
       "    "
      ],
      "text/plain": [
       "<IPython.core.display.HTML object>"
      ]
     },
     "metadata": {},
     "output_type": "display_data"
    },
    {
     "ename": "KeyError",
     "evalue": "'eval_accuracy'",
     "output_type": "error",
     "traceback": [
      "\u001b[31m---------------------------------------------------------------------------\u001b[39m",
      "\u001b[31mKeyError\u001b[39m                                  Traceback (most recent call last)",
      "\u001b[36mCell\u001b[39m\u001b[36m \u001b[39m\u001b[32mIn[7]\u001b[39m\u001b[32m, line 2\u001b[39m\n\u001b[32m      1\u001b[39m eval_results = trainer.evaluate()\n\u001b[32m----> \u001b[39m\u001b[32m2\u001b[39m accuracy = \u001b[43meval_results\u001b[49m\u001b[43m[\u001b[49m\u001b[33;43m'\u001b[39;49m\u001b[33;43meval_accuracy\u001b[39;49m\u001b[33;43m'\u001b[39;49m\u001b[43m]\u001b[49m\n\u001b[32m      3\u001b[39m \u001b[38;5;28mprint\u001b[39m(\u001b[33mf\u001b[39m\u001b[33m\"\u001b[39m\u001b[33mValidation Accuracy: \u001b[39m\u001b[38;5;132;01m{\u001b[39;00maccuracy\u001b[38;5;132;01m:\u001b[39;00m\u001b[33m.2f\u001b[39m\u001b[38;5;132;01m}\u001b[39;00m\u001b[33m\"\u001b[39m)\n",
      "\u001b[31mKeyError\u001b[39m: 'eval_accuracy'"
     ]
    }
   ],
   "source": [
    "eval_results = trainer.evaluate()\n",
    "accuracy = eval_results['eval_accuracy']\n",
    "print(f\"Validation Accuracy: {accuracy:.2f}\")"
   ]
  },
  {
   "cell_type": "markdown",
   "metadata": {},
   "source": []
  },
  {
   "cell_type": "code",
   "execution_count": 10,
   "metadata": {},
   "outputs": [
    {
     "name": "stderr",
     "output_type": "stream",
     "text": [
      "C:\\Users\\lyq\\AppData\\Local\\Temp\\ipykernel_8156\\2706415979.py:13: FutureWarning: `tokenizer` is deprecated and will be removed in version 5.0.0 for `Trainer.__init__`. Use `processing_class` instead.\n",
      "  trainer = Trainer(\n"
     ]
    },
    {
     "data": {
      "text/html": [
       "\n",
       "    <div>\n",
       "      \n",
       "      <progress value='85' max='85' style='width:300px; height:20px; vertical-align: middle;'></progress>\n",
       "      [85/85 00:18]\n",
       "    </div>\n",
       "    "
      ],
      "text/plain": [
       "<IPython.core.display.HTML object>"
      ]
     },
     "metadata": {},
     "output_type": "display_data"
    },
    {
     "name": "stdout",
     "output_type": "stream",
     "text": [
      "Validation Accuracy: 0.67\n"
     ]
    }
   ],
   "source": [
    "from sklearn.metrics import accuracy_score\n",
    "import numpy as np\n",
    "\n",
    "def compute_metrics(eval_pred):\n",
    "    logits, labels = eval_pred\n",
    "    preds = np.argmax(logits, axis=1)\n",
    "    acc = accuracy_score(labels, preds)\n",
    "    return {'eval_accuracy': acc}\n",
    "\n",
    "\n",
    "from transformers import Trainer\n",
    "\n",
    "trainer = Trainer(\n",
    "    model=model,  # 加载好的模型\n",
    "    args=training_args,  # 原来的训练参数\n",
    "    train_dataset=train_data,            # 训练数据集\n",
    "    eval_dataset=val_data, \n",
    "    tokenizer=tokenizer,\n",
    "    compute_metrics=compute_metrics  # 加上这行即可\n",
    ")\n",
    "eval_results = trainer.evaluate()\n",
    "accuracy = eval_results['eval_accuracy']\n",
    "print(f\"Validation Accuracy: {accuracy:.2f}\")\n"
   ]
  }
 ],
 "metadata": {
  "kernelspec": {
   "display_name": "hf",
   "language": "python",
   "name": "python3"
  },
  "language_info": {
   "codemirror_mode": {
    "name": "ipython",
    "version": 3
   },
   "file_extension": ".py",
   "mimetype": "text/x-python",
   "name": "python",
   "nbconvert_exporter": "python",
   "pygments_lexer": "ipython3",
   "version": "3.13.2"
  }
 },
 "nbformat": 4,
 "nbformat_minor": 2
}
